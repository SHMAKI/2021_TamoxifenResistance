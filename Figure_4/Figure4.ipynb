{
 "cells": [
  {
   "cell_type": "code",
   "execution_count": null,
   "metadata": {},
   "outputs": [],
   "source": [
    "import numpy as np\n",
    "import pandas as pd\n",
    "import seaborn as sns\n",
    "import matplotlib.pyplot as plt\n",
    "from matplotlib import rc\n",
    "rc('font',**{'family':'serif','serif':['Helvetica']})\n",
    "plt.rcParams['pdf.fonttype'] = 42\n",
    "from biomass.models import Magi_TamR_2021 as model\n",
    "from biomass import run_simulation\n",
    "from biomass import run_analysis\n",
    "\n",
    "from statannot import add_stat_annotation\n",
    "import itertools"
   ]
  },
  {
   "cell_type": "markdown",
   "metadata": {},
   "source": [
    "## Run simulation, plot figure 4b and 4c"
   ]
  },
  {
   "cell_type": "code",
   "execution_count": null,
   "metadata": {},
   "outputs": [],
   "source": [
    "# draw simulation graph\n",
    "run_simulation(model, viz_type='average', show_all=False, stdev=True) #Figure 4b,c"
   ]
  },
  {
   "cell_type": "code",
   "execution_count": null,
   "metadata": {},
   "outputs": [],
   "source": [
    "# sensitivity analysis\n",
    "run_analysis(model,target=\"reaction\",metric=\"integral_after_3w\")"
   ]
  },
  {
   "cell_type": "markdown",
   "metadata": {},
   "source": [
    "## plot figure 4d as a boxplot"
   ]
  },
  {
   "cell_type": "code",
   "execution_count": null,
   "metadata": {},
   "outputs": [],
   "source": [
    "from biomass.exec_model import ExecModel\n",
    "from biomass.analysis import ReactionSensitivity\n",
    "\n",
    "ExecModel_obj = ExecModel(model)\n",
    "\n",
    "biological_processes = model.ReactionNetwork().group()\n",
    "reaction_indices = np.sum(biological_processes, axis=0)\n",
    "reaction_indices"
   ]
  },
  {
   "cell_type": "code",
   "execution_count": null,
   "metadata": {},
   "outputs": [],
   "source": [
    "# load sensicitivity data\n",
    "sensitivity_coefficients = np.load(\"./biomass/models/Magi_TamR_2021/sensitivity_coefficients/reaction/integral_after_3w/sc.npy\")"
   ]
  },
  {
   "cell_type": "code",
   "execution_count": null,
   "metadata": {},
   "outputs": [],
   "source": [
    "# check where is \"growth_rate\"\n",
    "# print(ExecModel_obj.obs)\n",
    "k = ExecModel_obj.obs.index(\"growth_rate\")\n",
    "# sensitivity_array: sensicitivity data of growth_rate,\n",
    "# param_set x reaction x condition(ctrl, tam)\n",
    "sensitivity_array = sensitivity_coefficients[:, :, k, :]"
   ]
  },
  {
   "cell_type": "code",
   "execution_count": null,
   "metadata": {},
   "outputs": [],
   "source": [
    "# Remove NaN\n",
    "nan_idx = []\n",
    "for i in range(sensitivity_array.shape[0]):\n",
    "    for j in range(sensitivity_array.shape[1]):\n",
    "        if any(np.isnan(sensitivity_array[i, j, :])):\n",
    "            nan_idx.append(i)\n",
    "\n",
    "sensitivity_array = np.delete(\n",
    "    sensitivity_array, nan_idx, axis=0\n",
    ")"
   ]
  },
  {
   "cell_type": "code",
   "execution_count": null,
   "metadata": {},
   "outputs": [],
   "source": [
    "# sensitivity_array to tidy pd.DataFrame\n",
    "sa_df_1 = pd.DataFrame(sensitivity_array[:,:,0]) #ctrl\n",
    "sa_df_2 = pd.DataFrame(sensitivity_array[:,:,1]) #tam\n",
    "sa_df_1.columns = [\"v\" + sub for sub in [str(n) for n in reaction_indices]]\n",
    "sa_df_2.columns = [\"v\" + sub for sub in [str(n) for n in reaction_indices]]\n",
    "sa_df_1[\"Condition\"] = \"Control\"\n",
    "sa_df_2[\"Condition\"] = \"Tamoxifen\"\n",
    "\n",
    "sa_df = pd.concat([sa_df_1, sa_df_2])\n",
    "\n",
    "#create individual id, and convert df to long\n",
    "res=[n + str(s) for (n, s) in zip(sa_df[\"Condition\"].to_list(), sa_df.index.to_list())]\n",
    "sa_df[\"id\"] = res\n",
    "\n",
    "sa_df_wide = pd.wide_to_long(sa_df, stubnames='v', i=[\"id\"], j=\"reaction\")\n",
    "sa_df_wide = sa_df_wide.reset_index()\n",
    "sa_df_wide[\"reaction\"] = \"v\" + sa_df_wide[\"reaction\"].astype(str)\n",
    "#sa_df_wide"
   ]
  },
  {
   "cell_type": "code",
   "execution_count": null,
   "metadata": {},
   "outputs": [],
   "source": [
    "# def draw func from biomass\n",
    "def draw_vertical_span(biological_processes, width):\n",
    "    if len(biological_processes) > 1:\n",
    "        left_end = 0\n",
    "        for i, proc in enumerate(biological_processes):\n",
    "            if i % 2 == 0:\n",
    "                plt.axvspan(\n",
    "                    left_end - width-0.2,\n",
    "                    left_end - width + len(proc)-0.2,\n",
    "                    facecolor='k', alpha=0.05\n",
    "                )\n",
    "            left_end += len(proc)"
   ]
  },
  {
   "cell_type": "code",
   "execution_count": null,
   "metadata": {},
   "outputs": [],
   "source": [
    "# params for drawing graph\n",
    "options = ExecModel_obj.viz.sensitivity_options\n",
    "\n",
    "# savefig\n",
    "fig = plt.figure(figsize=(8,4))\n",
    "\n",
    "ax = sns.boxplot(x=\"reaction\", y=\"v\", data=sa_df_wide, hue=\"Condition\", width=0.6)\n",
    "ax.set_ylabel(\"Local sensitivity to mean growth rate\\nfrom W3 to W10\")\n",
    "ax.legend(loc=options['legend_loc'], frameon=False)\n",
    "\n",
    "add_stat_annotation(ax, data=sa_df_wide, x=\"reaction\", y=\"v\", hue=\"Condition\",\n",
    "                box_pairs=[((\"v9\", \"Tamoxifen\"),(\"v12\", \"Tamoxifen\")),],\n",
    "                    test='Wilcoxon', text_format='simple', loc='inside', verbose=2)\n",
    "                    \n",
    "draw_vertical_span(biological_processes, options['width'])\n",
    "plt.savefig(\"Fig/fig4d.pdf\")"
   ]
  },
  {
   "cell_type": "markdown",
   "metadata": {},
   "source": [
    "## plot figure 4e"
   ]
  },
  {
   "cell_type": "code",
   "execution_count": null,
   "metadata": {},
   "outputs": [],
   "source": [
    "# calc dual_inhibition_scores, takes long time because of nested for loops\n",
    "dual_inhibition_scores = ReactionSensitivity._calc_dual_inhibition_scores(ExecModel_obj, \"integral_after_3w\", reaction_indices)"
   ]
  },
  {
   "cell_type": "code",
   "execution_count": null,
   "metadata": {},
   "outputs": [],
   "source": [
    "# np.save(\"processed_data/dual_inhibition_scores.npy\", dual_inhibition_scores,)"
   ]
  },
  {
   "cell_type": "code",
   "execution_count": null,
   "metadata": {},
   "outputs": [],
   "source": [
    "# draw figure\n",
    "\n",
    "# specify cell transition and growth reaction\n",
    "x_vec = [7,9]\n",
    "y_vec = [10,12]\n",
    "\n",
    "inhibition_rate = np.arange(0,11,1)/10\n",
    "\n",
    "for x, y in itertools.product(x_vec, y_vec):\n",
    "\n",
    "    mat = dual_inhibition_scores[:, # a set of param: 20, \n",
    "                                 np.where(np.array(reaction_indices) == y)[0][0], # v_x: 12,\n",
    "                                 np.where(np.array(reaction_indices) == x)[0][0], # v_y: 12,\n",
    "                                 0, # target (growth_rate, sensitive, preR, R1, R2)\n",
    "                                 1, # condition (con, tam)\n",
    "                                 :, # inhibition range_x 0-100%: 11,\n",
    "                                 :, # inhibition range_y 0-100%: 11\n",
    "                                ].mean(axis=0) / 70 # (average of 20 param sets) -> average of 70 time points (3-10 week, 0.1 week increments)\n",
    "    # heatmap\n",
    "    sns.heatmap(mat, cmap=\"jet\", vmin=0.5, vmax=1.2, annot=True, fmt=\".2f\",\n",
    "                xticklabels=inhibition_rate,\n",
    "               yticklabels=inhibition_rate,)\n",
    "    plt.xlabel(\"v\" + str(x))\n",
    "    plt.ylabel(\"v\" + str(y))\n",
    "    plt.savefig(\"Fig/fig4e_v\" + str(x) + \"_v\" + str(y) + \".pdf\")\n",
    "    plt.close()"
   ]
  }
 ],
 "metadata": {
  "kernelspec": {
   "display_name": "Python 3",
   "language": "python",
   "name": "python3"
  },
  "language_info": {
   "codemirror_mode": {
    "name": "ipython",
    "version": 3
   },
   "file_extension": ".py",
   "mimetype": "text/x-python",
   "name": "python",
   "nbconvert_exporter": "python",
   "pygments_lexer": "ipython3",
   "version": "3.9.5"
  }
 },
 "nbformat": 4,
 "nbformat_minor": 4
}
